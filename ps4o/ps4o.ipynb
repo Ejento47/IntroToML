{
 "cells": [
  {
   "cell_type": "markdown",
   "metadata": {},
   "source": [
    "# Problem Set 4o: Neural Networks on Sequential Data\n",
    "\n",
    "**Release Date:** 28 October\n",
    "\n",
    "**Due Date:** 2 November"
   ]
  },
  {
   "cell_type": "markdown",
   "metadata": {},
   "source": [
    "## Overview\n",
    "\n",
    "We will learn the details of RNN/LSTM, as well as their applications to sequential data. In the first task, we will use an RNN to model and predict patterns in time-series data, specifically using sine wave. The second task focuses on a text classification, where we will employ LSTM network to classify reviews from movie reviews dataset as positive or negative.\n",
    "\n",
    "**Required Files**:\n",
    "* ps4o.ipynb\n",
    "* data/\n",
    "    * review_train.csv\n",
    "    * review_test.csv\n",
    "\n",
    "**Plagiarism Policy**: Please refer to our [Course Policies](https://canvas.nus.edu.sg/courses/62323/pages/course-policies).\n",
    "\n",
    "**IMPORTANT**: While it is possible to write and run Python code directly in Jupyter notebook, we recommend that you do this Problem set with an IDE using the .py file provided. An IDE will make debugging significantly easier.\n",
    "\n",
    "**Post-Problem Set Survey**:\n",
    "Your feedback is important to us! After completing Problem Set 4o, please take a moment to share your thoughts by filling out this [survey](https://coursemology.org/courses/2851/surveys/2457)."
   ]
  },
  {
   "cell_type": "markdown",
   "metadata": {},
   "source": [
    "### IMPORTANT\n",
    "\n",
    "Your implementation in the following tasks **should not\n",
    "involve any iteration, including `map` and `filter`, or recursion**."
   ]
  },
  {
   "cell_type": "markdown",
   "metadata": {},
   "source": [
    "## Packages\n",
    "The necessary packages are imported in the cell below. Please make sure that you run this cell before proceeding"
   ]
  },
  {
   "cell_type": "code",
   "execution_count": null,
   "metadata": {},
   "outputs": [
    {
     "ename": "",
     "evalue": "",
     "output_type": "error",
     "traceback": [
      "\u001b[1;31mRunning cells with 'base (Python 3.12.4)' requires the ipykernel package.\n",
      "\u001b[1;31mRun the following command to install 'ipykernel' into the Python environment. \n",
      "\u001b[1;31mCommand: 'conda install -n base ipykernel --update-deps --force-reinstall'"
     ]
    }
   ],
   "source": [
    "import torch\n",
    "import torch.nn as nn\n",
    "import torch.optim as optim\n",
    "import pandas as pd\n",
    "import torch.nn.functional as F\n",
    "from torch.utils.data import DataLoader, Dataset\n",
    "from torch.nn.utils.rnn import pad_sequence\n",
    "\n",
    "import numpy as np\n",
    "import matplotlib.pyplot as plt\n",
    "\n",
    "# Set seeds for reproducibility\n",
    "torch.manual_seed(2109)\n",
    "np.random.seed(2109)"
   ]
  },
  {
   "cell_type": "code",
   "execution_count": null,
   "metadata": {},
   "outputs": [
    {
     "name": "stdout",
     "output_type": "stream",
     "text": [
      "Using device: cuda\n"
     ]
    }
   ],
   "source": [
    "# Check if GPU is available\n",
    "device = \"cuda\" if torch.cuda.is_available() else \"cpu\"\n",
    "print(f\"Using device: {device}\")"
   ]
  },
  {
   "cell_type": "markdown",
   "metadata": {},
   "source": [
    "## 1. Simple RNN to Learn Sine Wave\n",
    "\n",
    "In this task, you will create a simple RNN model to predict values of a sine wave based on prior inputs. The goal is for the RNN to learn the underlying pattern of the sine wave and use this understanding to predict unseen values in the sequence.\n",
    "\n",
    "Through this exercies, you'll develop an understanding of how RNNs handle dependencies over time and how they can be trained to make predictions on continuous data."
   ]
  },
  {
   "cell_type": "markdown",
   "metadata": {},
   "source": [
    "### Task 1.1: RNN Cell\n",
    "\n",
    "<center><img src=\"images/rnn.png\" style=\"width:500px;height:300px\"></center>\n",
    "\n",
    "At the core of the RNN is the RNN cell, which processes one time step of the sequence at a time. For each time step, the cell updates its hidden state based on the current input and the previous hidden state.\n",
    "\n",
    "We first implement the computations for a single time step. The diagram below describes the operations for a single time step of an RNN cell.\n",
    "<center><img src=\"images/rnn_cell.png\" style=\"width:700px;height:300px;\"></center>\n",
    "\n",
    "__Note__: an RNN cell outputs the hidden state $h_t$, but the function that you'll implement `rnn_cell_forward`, also calculates the prediction $\\hat{y}_t$. Keep in mind that the activation functions within the RNN cell can be replaced with other activation functions. For this task, tanh and softmax are used, but they can be replaced by other activation functions as well."
   ]
  },
  {
   "cell_type": "code",
   "execution_count": null,
   "metadata": {},
   "outputs": [],
   "source": [
    "def rnn_cell_forward(xt, h_prev, Wxh, Whh, Why, bh, by):\n",
    "    \"\"\"\n",
    "    Implements a single forward step of the RNN-cell\n",
    "\n",
    "    Args:\n",
    "        xt: 2D tensor of shape (nx, m)\n",
    "            Input data at timestep \"t\"\n",
    "        h_prev: 2D tensor of shape (nh, m)\n",
    "            Hidden state at timestep \"t-1\"\n",
    "        Wxh: 2D tensor of shape (nx, nh)\n",
    "            Weight matrix multiplying the input\n",
    "        Whh: 2D tensor of shape (nh, nh)\n",
    "            Weight matrix multiplying the hidden state\n",
    "        Why: 2D tensor of shape (nh, ny)\n",
    "            Weight matrix relating the hidden-state to the output\n",
    "        bh: 1D tensor of shape (nh, 1)\n",
    "            Bias relating to next hidden-state\n",
    "        by: 2D tensor of shape (ny, 1)\n",
    "            Bias relating the hidden-state to the output\n",
    "\n",
    "    Returns:\n",
    "        yt_pred -- prediction at timestep \"t\", tensor of shape (ny, m)\n",
    "        h_next -- next hidden state, of shape (nh, m)\n",
    "    \"\"\"\n",
    "    \"\"\" YOUR CODE HERE \"\"\"\n",
    "    h_next = torch.tanh(Wxh.T @ xt + Whh.T @ h_prev + bh)\n",
    "    yt_pred = torch.softmax(Why.T @ h_next + by, dim=0)\n",
    "    print(yt_pred)\n",
    "    return yt_pred, h_next\n",
    "    \"\"\" YOUR CODE END HERE \"\"\""
   ]
  },
  {
   "cell_type": "code",
   "execution_count": null,
   "metadata": {},
   "outputs": [
    {
     "name": "stdout",
     "output_type": "stream",
     "text": [
      "tensor([[0.7311, 0.7311, 0.7311],\n",
      "        [0.2689, 0.2689, 0.2689]])\n"
     ]
    }
   ],
   "source": [
    "# Test cases\n",
    "public_paras = {\n",
    "    'xt': torch.tensor([[1., 1., 2.], [2., 1., 3.], [3., 5., 3.]]),\n",
    "    'h_prev': torch.tensor([[5., 3., 2.], [1., 3., 2.]]),\n",
    "    'Wxh': torch.tensor([[2., 2.], [3., 4.], [4., 3.]]),\n",
    "    'Whh': torch.tensor([[2., 4.], [2., 3.]]),\n",
    "    'Why': torch.tensor([[3., 5.], [5., 4.]]),\n",
    "    'bh': torch.tensor([[1.], [2.]]),\n",
    "    'by': torch.tensor([[3.], [1.]]),\n",
    "}\n",
    "\n",
    "expected_yt_pred = torch.tensor([[0.7311, 0.7311, 0.7311], [0.2689, 0.2689, 0.2689]])\n",
    "expected_h_next = torch.tensor([[1., 1., 1.], [1., 1., 1.]])\n",
    "\n",
    "actual_yt_pred, actual_h_next = rnn_cell_forward(**public_paras)\n",
    "assert torch.allclose(actual_yt_pred, expected_yt_pred, atol=1e-4)\n",
    "assert torch.allclose(actual_h_next, expected_h_next, atol=1e-4)"
   ]
  },
  {
   "cell_type": "markdown",
   "metadata": {},
   "source": [
    "### Task 1.2: Generate Sine Wave Data\n",
    "\n",
    "Use torch.linspace(start, end, steps) to create a sequence of evenly spaced values between 0 and $8\\pi$ over `num_time_steps` intervals. This will serve as the x-values (time points) for the sine wave."
   ]
  },
  {
   "cell_type": "code",
   "execution_count": null,
   "metadata": {},
   "outputs": [],
   "source": [
    "def generate_sine_wave(num_time_steps):\n",
    "    \"\"\"\n",
    "    Generates a sine wave data\n",
    "\n",
    "    Args:\n",
    "        num_time_steps: int\n",
    "            Number of time steps\n",
    "    Returns:\n",
    "        data: 1D tensor of shape (num_time_steps,)\n",
    "            Sine wave data with corresponding time steps\n",
    "    \"\"\"\n",
    "    \"\"\" YOUR CODE HERE \"\"\"\n",
    "    return torch.linspace(0, 8*np.pi, num_time_steps).sin()\n",
    "    \"\"\" YOUR CODE END HERE \"\"\""
   ]
  },
  {
   "cell_type": "code",
   "execution_count": null,
   "metadata": {},
   "outputs": [],
   "source": [
    "# Test cases\n",
    "num_time_steps_public = 5\n",
    "expected_data_public = torch.tensor([0.0000e+00, 1.7485e-07, 3.4969e-07, 4.7700e-08, 6.9938e-07])\n",
    "actual_data = generate_sine_wave(num_time_steps_public)\n",
    "\n",
    "assert torch.allclose(actual_data, expected_data_public)"
   ]
  },
  {
   "cell_type": "code",
   "execution_count": null,
   "metadata": {},
   "outputs": [
    {
     "data": {
      "image/png": "[encoded data removed]",
      "text/plain": [
       "<Figure size 640x480 with 1 Axes>"
      ]
     },
     "metadata": {},
     "output_type": "display_data"
    }
   ],
   "source": [
    "num_time_steps = 500\n",
    "sine_wave_data = generate_sine_wave(num_time_steps)\n",
    "\n",
    "# Plot the sine wave\n",
    "plt.plot(sine_wave_data)\n",
    "plt.title('Sine Wave')\n",
    "plt.show()"
   ]
  },
  {
   "cell_type": "markdown",
   "metadata": {},
   "source": [
    "### Task 1.3: Create sequences\n",
    "\n",
    "When training RNN, it's common to divide time series data into overlapping windows. The label used for comparison is the next value in the sequence.\n",
    "\n",
    "For example if we have series of $n$ data points and a window size of 3, the input sequences are $[x_1, x_2, x_3]$ to predict $x_4$, $[x_2, x_3, x_4]$ to predict $x_5$, $[x_3, x_4, x_5]$, to predict $x_6$, and so on.\n",
    "\n",
    "You will implement function `create_sequences` which generates sequences and their corresponding labels from a given sine wave."
   ]
  },
  {
   "cell_type": "code",
   "execution_count": null,
   "metadata": {},
   "outputs": [],
   "source": [
    "def create_sequences(sine_wave, seq_length):\n",
    "    \"\"\"\n",
    "    Create overlapping sequences from the input time series and generate labels \n",
    "    Each label is the value immediately following the corresponding sequence.\n",
    "    \n",
    "    Args:\n",
    "        sine_wave: A 1D tensor representing the time series data (e.g., sine wave).\n",
    "        seq_length: int. The length of each sequence (window) to be used as input to the RNN.\n",
    "\n",
    "    Returns: \n",
    "        windows: 2D tensor where each row is a sequence (window) of length `seq_length`.\n",
    "        labels: 1D tensor where each element is the next value following each window.\n",
    "    \"\"\"\n",
    "    \"\"\" YOUR CODE HERE \"\"\"\n",
    "    windows = sine_wave.unfold(0, seq_length, 1)[:-1]\n",
    "    labels = sine_wave[seq_length:]\n",
    "    return windows, labels\n",
    "    \"\"\" YOUR CODE END HERE \"\"\""
   ]
  },
  {
   "cell_type": "code",
   "execution_count": null,
   "metadata": {},
   "outputs": [],
   "source": [
    "# Test cases\n",
    "seq_length_test = 2\n",
    "sine_wave_test = torch.tensor([0., 1., 2., 3.])\n",
    "expected_sequences = torch.tensor([[0., 1.], [1., 2.]])\n",
    "expected_labels = torch.tensor([2., 3.])\n",
    "\n",
    "actual_sequences, actual_labels = create_sequences(sine_wave_test, seq_length_test)\n",
    "assert torch.allclose(actual_sequences, expected_sequences)\n",
    "assert torch.allclose(actual_labels, expected_labels)"
   ]
  },
  {
   "cell_type": "code",
   "execution_count": null,
   "metadata": {},
   "outputs": [
    {
     "name": "stdout",
     "output_type": "stream",
     "text": [
      "Shape of sequences: torch.Size([480, 20])\n"
     ]
    },
    {
     "data": {
      "text/plain": [
       "torch.Size([480, 20, 1])"
      ]
     },
     "execution_count": 22,
     "metadata": {},
     "output_type": "execute_result"
    }
   ],
   "source": [
    "# Create sequences and labels\n",
    "seq_length = 20\n",
    "sequences, labels = create_sequences(sine_wave_data, seq_length)\n",
    "print(f\"Shape of sequences: {sequences.shape}\")\n",
    "# Add extra dimension to match RNN input shape [batch_size, seq_length, num_features]\n",
    "sequences = sequences.unsqueeze(-1)\n",
    "sequences.shape"
   ]
  },
  {
   "cell_type": "code",
   "execution_count": null,
   "metadata": {},
   "outputs": [
    {
     "data": {
      "text/plain": [
       "torch.Size([384])"
      ]
     },
     "execution_count": 23,
     "metadata": {},
     "output_type": "execute_result"
    }
   ],
   "source": [
    "# Split the sequences into training data (first 80%) and test data (remaining 20%) \n",
    "train_size = int(len(sequences) * 0.8)\n",
    "train_seqs, train_labels = sequences[:train_size], labels[:train_size]\n",
    "\n",
    "\n",
    "\n",
    "test_seqs, test_labels = sequences[train_size:], labels[train_size:]\n",
    "train_labels.shape\n"
   ]
  },
  {
   "cell_type": "markdown",
   "metadata": {},
   "source": [
    "### Task 1.4: Building RNN Model"
   ]
  },
  {
   "cell_type": "markdown",
   "metadata": {},
   "source": [
    "Model Architecture\n",
    "$$x \\rightarrow \\text{RNN} \\rightarrow \\text{Linear}(1)$$\n",
    "\n",
    "- [RNN](https://pytorch.org/docs/stable/generated/torch.nn.RNN.html): a basic recurrent layer in PyTorch. It takes an input of sequences and returns output for each time step, and the hidden state of the last time step. The `hidden_size` determines the number of hidden units in the RNN.\n",
    " \n",
    "- [Linear](https://pytorch.org/docs/stable/generated/torch.nn.Linear.html): fully connected layer. The output from the RNN's last hidden state will be passed through this layer to predict a single value (the next time step in the series)\n",
    "\n",
    "__Note:__ For all your networks hereon, the only constructor argument is `classes`. Do not add any other parameters to the `__init__` method. Remember not to hardcode and use the `classes` argument instead. For RNN layer, use `batch_first=True` to ensure that the batch dimension is handled as the first input dimension."
   ]
  },
  {
   "cell_type": "code",
   "execution_count": null,
   "metadata": {},
   "outputs": [],
   "source": [
    "class SineRNN(nn.Module):\n",
    "    def __init__(self, input_size, hidden_size, output_size):\n",
    "        \"\"\"\n",
    "        Initialize the SineRNN model.\n",
    "\n",
    "        Args:\n",
    "            input_size (int): The number of input features per time step (typically 1 for univariate time series).\n",
    "            hidden_size (int): The number of units in the RNN's hidden layer.\n",
    "            output_size (int): The size of the output (usually 1 for predicting a single value).\n",
    "        \"\"\"\n",
    "        super(SineRNN, self).__init__()\n",
    "        \"\"\" YOUR CODE HERE \"\"\"\n",
    "        self.rnn = nn.RNN(input_size, hidden_size, batch_first=True)\n",
    "        self.fc = nn.Linear(hidden_size, output_size)\n",
    "        \"\"\" YOUR CODE END HERE \"\"\"\n",
    "        \n",
    "    def forward(self, x):\n",
    "        \"\"\" YOUR CODE HERE \"\"\"\n",
    "        output, _ = self.rnn(x) #dunnid ht since only 1 rnn layer\n",
    "        output = self.fc(output)\n",
    "        return output\n",
    "        \"\"\" YOUR CODE END HERE \"\"\""
   ]
  },
  {
   "cell_type": "code",
   "execution_count": null,
   "metadata": {},
   "outputs": [],
   "source": [
    "# Test cases\n",
    "input_size = output_size = 1\n",
    "hidden_size = 50\n",
    "model = SineRNN(input_size, hidden_size, output_size)\n",
    "assert [layer.detach().numpy().shape for _, layer in model.named_parameters()]\\\n",
    "      == [(50, 1), (50, 50), (50,), (50,), (1, 50), (1,)]"
   ]
  },
  {
   "cell_type": "markdown",
   "metadata": {},
   "source": [
    "### Training"
   ]
  },
  {
   "cell_type": "code",
   "execution_count": null,
   "metadata": {},
   "outputs": [],
   "source": [
    "# Define loss function, and optimizer\n",
    "criterion = nn.MSELoss()\n",
    "optimizer = torch.optim.Adam(model.parameters(), lr=0.01)"
   ]
  },
  {
   "cell_type": "code",
   "execution_count": null,
   "metadata": {},
   "outputs": [
    {
     "name": "stdout",
     "output_type": "stream",
     "text": [
      "Epoch [20/200], Loss: 0.508875\n",
      "Epoch [40/200], Loss: 0.508875\n",
      "Epoch [60/200], Loss: 0.508875\n",
      "Epoch [80/200], Loss: 0.508875\n",
      "Epoch [100/200], Loss: 0.508875\n",
      "Epoch [120/200], Loss: 0.508875\n",
      "Epoch [140/200], Loss: 0.508875\n",
      "Epoch [160/200], Loss: 0.508875\n",
      "Epoch [180/200], Loss: 0.508875\n",
      "Epoch [200/200], Loss: 0.508875\n"
     ]
    }
   ],
   "source": [
    "# Training loop\n",
    "num_epochs = 200\n",
    "for epoch in range(num_epochs):\n",
    "    model.train()\n",
    "    optimizer.zero_grad()\n",
    "\n",
    "    # Forward pass\n",
    "    outputs = model(train_seqs)\n",
    "    loss = criterion(outputs.squeeze(1), train_labels)\n",
    "\n",
    "    # Backward pass and optimization\n",
    "    loss.backward()\n",
    "    optimizer.step()\n",
    "    \n",
    "    if (epoch + 1) % 20 == 0:\n",
    "        print(f'Epoch [{epoch+1}/{num_epochs}], Loss: {loss.item():.6f}')"
   ]
  },
  {
   "cell_type": "markdown",
   "metadata": {},
   "source": [
    "### Evaluating\n",
    "\n",
    "Once training is complete, we can evaluate the model by plotting its predictions against the actual sine wave. We use a portion of test data that the model hasn't seen during training to check how well it generalizes"
   ]
  },
  {
   "cell_type": "code",
   "execution_count": null,
   "metadata": {},
   "outputs": [],
   "source": [
    "# Predict on unseen data\n",
    "model.eval()\n",
    "y_pred = []\n",
    "input_seq = test_seqs[0]  # Start with the first testing sequence\n",
    "\n",
    "with torch.no_grad():\n",
    "    for _ in range(len(test_seqs)):\n",
    "        output = model(input_seq)\n",
    "        y_pred.append(output.detach().numpy()) \n",
    "\n",
    "        # Use the predicted value as the next input sequence\n",
    "        next_seq = torch.cat((input_seq[1:, :], output.squeeze(0)), dim=0)\n",
    "        input_seq = next_seq\n",
    "\n",
    "# Plot the true sine wave and predictions\n",
    "plt.plot(sine_wave_data, c='gray', label='Actual data')\n",
    "plt.scatter(np.arange(seq_length + len(train_labels)), sine_wave_data[:seq_length + len(train_labels)], marker='.', label='Train')\n",
    "x_axis_pred = np.arange(len(sine_wave_data) - len(test_labels), len(sine_wave_data))\n",
    "plt.scatter(x_axis_pred, y_pred, marker='.', label='Predicted')\n",
    "plt.legend(loc=\"lower left\")\n",
    "plt.show()"
   ]
  },
  {
   "cell_type": "markdown",
   "metadata": {},
   "source": [
    "## 2. LSTM for Text Classification\n",
    "\n",
    "Text classification in Natural Language Processing (NLP) involves automatically assigning predefined labels to textual data based on its content. It is a fundamental problem in NLP with a wide range of applications, including sentiment analysis, spam detection, and topic labeling, etc. The goal of text classification is to train a model that can learn patterns and features from labeled training data and use that knowledge to classify new, unseen text into predefined categories. These categories can be binary (e.g., positive/negative sentiment) or multiclass (e.g., sports, politics, entertainment).\n",
    "\n",
    "In this task, we will train an LSTM-based sentiment classifier using IMDb movie reviews dataset."
   ]
  },
  {
   "cell_type": "markdown",
   "metadata": {},
   "source": [
    "### Task 2.1: LSTM Cell\n",
    "\n",
    "The following figure shows the operations of an LSTM cell (Adopted from [Soure](https://d2l.ai/chapter_recurrent-modern/lstm.html#fig-lstm-3)).\n",
    "\n",
    "<center><img src=\"images/lstm_cell.png\" style=\"width:400;height:300px\"></center>\n",
    "\n",
    "where $\\sigma$ is the sigmoid function and $\\odot$ is the Hadamard product. \n",
    "\n",
    "Let $[\\mathbf{H}_{t - 1}, \\mathbf{X}_t\\bigl]$ be the concatenation of hidden state $\\mathbf{H}_{t - 1}$ and current time step's input $\\mathbf{X}_t$, we have the equations for the forward pass of an LSTM cell as follows:\n",
    "\n",
    "- **Forget Gate $\\mathbf{F}_t$**: responsible for deciding which information is kept for calculating the cell state and which is not relevant and can be discarded\n",
    "$$\\mathbf{F}_{t} = \\sigma\\Bigl(\\mathbf{W}_f\\bigl[\\mathbf{H}_{t - 1}, \\mathbf{X}_t\\bigl] + b_f\\Bigl)$$\n",
    "- **Input Gate $\\mathbf{I}_t$**: updates the cell state and decides which information is important and which is not. As forget gate helps to discard the information, the input gate helps to find out important information and store certain data in the memory that relevant\n",
    "$$\\mathbf{I}_{t} = \\sigma\\Bigl(\\mathbf{W}_i\\bigl[\\mathbf{H}_{t - 1}, \\mathbf{X}_t\\bigl] + b_i\\Bigl)$$\n",
    "- **Candidate $\\tilde{\\mathbf{C}}_t$**\n",
    "$$\\tilde{\\mathbf{C}}_{t} = \\tanh\\Bigl(\\mathbf{W}_c\\bigl[\\mathbf{H}_{t - 1}, \\mathbf{X}_t\\bigl] + b_c\\Bigl)$$\n",
    "- **Output Gate $\\mathbf{O}_t$**: decides what the next hidden state should be\n",
    "$$\\mathbf{O}_{t} = \\sigma\\Bigl(\\mathbf{W}_o\\bigl[\\mathbf{H}_{t - 1}, \\mathbf{X}_t\\bigl] + b_o\\Bigl)$$\n",
    "- **Memory Cell State $\\mathbf{C}_t$**\n",
    "$$\\mathbf{C}_{t} = \\mathbf{F}_t * \\mathbf{C}_{t-1} + \\mathbf{I}_t * \\tilde{\\mathbf{C}}_{t}$$\n",
    "- **Hidden State $\\mathbf{H}_t$**\n",
    "$$\\mathbf{H}_{t} = \\mathbf{O}_t * \\tanh\\bigl(\\mathbf{C}_{t}\\bigl)$$\n",
    "\n",
    "Similar to the RNN example, you'll begin by implementing the LSTM cell for a single time step."
   ]
  },
  {
   "cell_type": "code",
   "execution_count": null,
   "metadata": {},
   "outputs": [],
   "source": [
    "def lstm_cell_forward(xt, h_prev, c_prev, Wf, bf, Wi, bi, Wc, bc, Wo, bo):\n",
    "    \"\"\"\n",
    "    Implement a single forward step of the LSTM cell\n",
    "\n",
    "    Args:\n",
    "        xt: 2D tensor of shape (nx, m)\n",
    "            Input data at timestep \"t\"\n",
    "        h_prev: 2D tensor of shape (nh, m)\n",
    "            Hidden state at timestep \"t-1\"\n",
    "        c_prev: 2D tensor of shape (nh, m)\n",
    "            Memory state at timestep \"t-1\"\n",
    "        Wf: tensor of shape(nh, nh + nx) \n",
    "            Weight matrix of the forget gate\n",
    "        bf: tensor of shape (nh, 1)\n",
    "            Bias of the forget gate\n",
    "        Wi: tensor of shape (nh, nh + nx)\n",
    "            Weight matrix of the input gate\n",
    "        bi: tensor of shape (nh, 1)\n",
    "            Bias of the input gate\n",
    "        Wc: tensor of shape (nh, nh + nx)\n",
    "            Weight matrix of candidate value\n",
    "        bc: tensor of shape (nh, 1)\n",
    "            Bias of the candidate value\n",
    "        Wo: tensor of shape (nh, nh + nx)\n",
    "            Weight matrix of the output gate\n",
    "        bo: tensor of shape (nh, 1) \n",
    "            Bias of the output gate\n",
    "    \n",
    "    Returns:\n",
    "        h_next: 2D tensor of shape (nh, m), next hidden state\n",
    "        c_next: 2D tensor of shape (nh, m), next memory state\n",
    "    \"\"\"\n",
    "    \"\"\" YOUR CODE HERE \"\"\"\n",
    "    concat = torch.cat((h_prev, xt), dim=0)\n",
    "    ft = torch.sigmoid(Wf @ concat + bf)\n",
    "    it = torch.sigmoid(Wi @ concat + bi)\n",
    "    ct = torch.tanh(Wc @ concat + bc)\n",
    "    c_next = ft * c_prev + it * ct\n",
    "    ot = torch.sigmoid(Wo @ concat + bo)\n",
    "    h_next = ot * torch.tanh(c_next)\n",
    "    return h_next, c_next\n",
    "    \"\"\" YOUR CODE END HERE \"\"\""
   ]
  },
  {
   "cell_type": "code",
   "execution_count": null,
   "metadata": {},
   "outputs": [],
   "source": [
    "# Test cases\n",
    "public_paras = {\n",
    "    'xt': torch.tensor([[1.], [2.], [3.]]),\n",
    "    'h_prev': torch.tensor([[1.], [2.]]),\n",
    "    'c_prev': torch.tensor([[1.], [2.]]),\n",
    "    'Wf': torch.tensor([[1., 1., 1., 1., 1.], [1., 1., 1., 1., 1.]]),\n",
    "    'bf': torch.tensor([[1.], [1.]]),\n",
    "    'Wi': torch.tensor([[1., 1., 1., 1., 1.], [1., 1., 1., 1., 1.]]),\n",
    "    'bi': torch.tensor([[1.], [1.]]),\n",
    "    'Wc': torch.tensor([[1., 1., 1., 1., 1.], [1., 1., 1., 1., 1.]]),\n",
    "    'bc': torch.tensor([[1.], [1.]]),\n",
    "    'Wo': torch.tensor([[1., 1., 1., 1., 1.], [1., 1., 1., 1., 1.]]),\n",
    "    'bo': torch.tensor([[1.], [1.]])\n",
    "}\n",
    "expected_h_next = torch.tensor([[0.9640], [0.9950]])\n",
    "expected_c_next = torch.tensor([[1.9999], [2.9999]])\n",
    "\n",
    "actual_h_next, actual_c_next = lstm_cell_forward(**public_paras)\n",
    "assert torch.allclose(actual_h_next, expected_h_next, atol=1e-4)\n",
    "assert torch.allclose(actual_c_next, expected_c_next, atol=1e-4)"
   ]
  },
  {
   "cell_type": "markdown",
   "metadata": {},
   "source": [
    "### Preparing Data"
   ]
  },
  {
   "cell_type": "markdown",
   "metadata": {},
   "source": [
    "#### Sentence Polarity Dataset\n",
    "The [Sentence Polarity Dataset](https://www.kaggle.com/datasets/nltkdata/sentence-polarity) is a widely used dataset for sentiment analysis and text classification tasks. The reviews are sampled from Rotten Tomatoes webpages and labeled with sentiment polarity, indicating whether the review expresses a positive or negative sentiment towards the movie.\n",
    "\n",
    "In this task, we use a subset of the dataset consisting of 10,000 reviews, equally divided between 5,000 positive and 5,000 negative reviews. The dataset is pre-split into a training set with 8,000 reviews and a test set with 2,000 reviews. Each set maintains an even distribution of positive and negative reviews. The data is available at `data/` directory. The .csv files contain two columns: `review` and `label`, where 0 means the review is negative and 1 means the review is positive."
   ]
  },
  {
   "cell_type": "code",
   "execution_count": null,
   "metadata": {},
   "outputs": [
    {
     "data": {
      "text/html": [
       "<div>\n",
       "<style scoped>\n",
       "    .dataframe tbody tr th:only-of-type {\n",
       "        vertical-align: middle;\n",
       "    }\n",
       "\n",
       "    .dataframe tbody tr th {\n",
       "        vertical-align: top;\n",
       "    }\n",
       "\n",
       "    .dataframe thead th {\n",
       "        text-align: right;\n",
       "    }\n",
       "</style>\n",
       "<table border=\"1\" class=\"dataframe\">\n",
       "  <thead>\n",
       "    <tr style=\"text-align: right;\">\n",
       "      <th></th>\n",
       "      <th>review</th>\n",
       "      <th>label</th>\n",
       "    </tr>\n",
       "  </thead>\n",
       "  <tbody>\n",
       "    <tr>\n",
       "      <th>0</th>\n",
       "      <td>a reminder that beyond all the hype and recent...</td>\n",
       "      <td>1</td>\n",
       "    </tr>\n",
       "    <tr>\n",
       "      <th>1</th>\n",
       "      <td>jaglom . . . put[s] the audience in the privil...</td>\n",
       "      <td>1</td>\n",
       "    </tr>\n",
       "    <tr>\n",
       "      <th>2</th>\n",
       "      <td>if myers decides to make another austin powers...</td>\n",
       "      <td>0</td>\n",
       "    </tr>\n",
       "    <tr>\n",
       "      <th>3</th>\n",
       "      <td>\" bad \" is the operative word for \" bad compa...</td>\n",
       "      <td>0</td>\n",
       "    </tr>\n",
       "    <tr>\n",
       "      <th>4</th>\n",
       "      <td>if you love the music , and i do , its hard to...</td>\n",
       "      <td>1</td>\n",
       "    </tr>\n",
       "    <tr>\n",
       "      <th>5</th>\n",
       "      <td>an awful lot like one of [spears'] music video...</td>\n",
       "      <td>0</td>\n",
       "    </tr>\n",
       "    <tr>\n",
       "      <th>6</th>\n",
       "      <td>bouquet gives a performance that is masterly .</td>\n",
       "      <td>1</td>\n",
       "    </tr>\n",
       "    <tr>\n",
       "      <th>7</th>\n",
       "      <td>there are a few stabs at absurdist comedy . . ...</td>\n",
       "      <td>1</td>\n",
       "    </tr>\n",
       "    <tr>\n",
       "      <th>8</th>\n",
       "      <td>harland williams is so funny in drag he should...</td>\n",
       "      <td>0</td>\n",
       "    </tr>\n",
       "    <tr>\n",
       "      <th>9</th>\n",
       "      <td>creepy , authentic and dark . this disturbing ...</td>\n",
       "      <td>1</td>\n",
       "    </tr>\n",
       "  </tbody>\n",
       "</table>\n",
       "</div>"
      ],
      "text/plain": [
       "                                              review  label\n",
       "0  a reminder that beyond all the hype and recent...      1\n",
       "1  jaglom . . . put[s] the audience in the privil...      1\n",
       "2  if myers decides to make another austin powers...      0\n",
       "3   \" bad \" is the operative word for \" bad compa...      0\n",
       "4  if you love the music , and i do , its hard to...      1\n",
       "5  an awful lot like one of [spears'] music video...      0\n",
       "6    bouquet gives a performance that is masterly .       1\n",
       "7  there are a few stabs at absurdist comedy . . ...      1\n",
       "8  harland williams is so funny in drag he should...      0\n",
       "9  creepy , authentic and dark . this disturbing ...      1"
      ]
     },
     "execution_count": 80,
     "metadata": {},
     "output_type": "execute_result"
    }
   ],
   "source": [
    "# Load data from files\n",
    "train_df = pd.read_csv('data/review_train.csv')\n",
    "test_df = pd.read_csv('data/review_test.csv')\n",
    "train_df.head(10)"
   ]
  },
  {
   "cell_type": "code",
   "execution_count": null,
   "metadata": {},
   "outputs": [
    {
     "data": {
      "text/plain": [
       "label\n",
       "1    4000\n",
       "0    4000\n",
       "Name: count, dtype: int64"
      ]
     },
     "execution_count": 81,
     "metadata": {},
     "output_type": "execute_result"
    }
   ],
   "source": [
    "train_df['label'].value_counts()"
   ]
  },
  {
   "cell_type": "markdown",
   "metadata": {},
   "source": [
    "As we can see, the training dataset has 4,000 positive reviews (label = 1) and 4,000 negative reviews (label = 0)."
   ]
  },
  {
   "cell_type": "markdown",
   "metadata": {},
   "source": [
    "#### Creating Dataset\n",
    "\n",
    "In the previous PS, we used available datasets in PyTorch (MNIST, CIFAR) to train the networks. However, in this task, we will need to prepare the data ourselves. Using Dataset offers several advantages, including cleaner code and support for parallel processing on multiple CPUs or GPUs. It also optimizes data transfer between the CPU and GPU, which is crucial when working with large datasets. It is therefore the recommended best practice. \n",
    "\n",
    "We first create a simple `CustomDataset` which extends PyTorch's `Dataset`. This class only stores out inputs and targets. A custom Dataset class must implement three functions: `__init__`, `__len__`, and `__getitem__`"
   ]
  },
  {
   "cell_type": "code",
   "execution_count": null,
   "metadata": {},
   "outputs": [],
   "source": [
    "class CustomDataset(Dataset):\n",
    "    def __init__(self, data_file):\n",
    "        self.data = pd.read_csv(data_file)\n",
    "    def __len__(self):\n",
    "        return len(self.data)\n",
    "    def __getitem__(self, idx):\n",
    "        text = self.data.iloc[idx]['review']\n",
    "        label = self.data.iloc[idx]['label']\n",
    "        return text, label"
   ]
  },
  {
   "cell_type": "code",
   "execution_count": null,
   "metadata": {},
   "outputs": [],
   "source": [
    "train_dataset = CustomDataset('data/review_train.csv')\n",
    "test_dataset = CustomDataset('data/review_test.csv')"
   ]
  },
  {
   "cell_type": "code",
   "execution_count": null,
   "metadata": {},
   "outputs": [
    {
     "name": "stdout",
     "output_type": "stream",
     "text": [
      "Review:  what kids will discover is a new collectible . what parents will suspect is that they're watching a 76-minute commercial . \n",
      "Label:  0\n"
     ]
    }
   ],
   "source": [
    "# Look at a sample review and label\n",
    "idx = 28\n",
    "print(\"Review: \", train_dataset.__getitem__(idx)[0])\n",
    "print(\"Label: \", train_dataset.__getitem__(idx)[1])"
   ]
  },
  {
   "cell_type": "markdown",
   "metadata": {},
   "source": [
    "#### Data processing pipelines"
   ]
  },
  {
   "cell_type": "markdown",
   "metadata": {},
   "source": [
    "We will use `torchtext` package to simplify the process of preprocessing as it provides utilities and tools for working with text data. If you don't have it installed yet, you can install it using the following command."
   ]
  },
  {
   "cell_type": "code",
   "execution_count": null,
   "metadata": {},
   "outputs": [],
   "source": [
    "# ! pip install torchtext"
   ]
  },
  {
   "cell_type": "markdown",
   "metadata": {},
   "source": [
    "The text pipeline is used to process the raw data strings from the dataset iterators. We need a tokenizer to divide text into individual units (call tokens) and a vocabulary which maps each unique token to a numerical index. The pipeline is then converts a text string into a list of integers based on the lookup table defined in the vocabulary.\n",
    "\n",
    "Concepts:\n",
    "- **Tokenization**: refers to the process of dividing a text or sentence into smaller components known as tokens. A token is often a individual word but can also be character, subword, or other meaningful element of text. Tokenization can present challenges, such as dealing with contractions (e.g., splitting \"can't\" into \"can\" and \"'t\") or punctuation (\"Mr. Smith\" treated as [\"Mr\", \".\", \"Smith\"])\n",
    "- **Special Tokens**:\n",
    "    - `<pad>`: padding token, typically assigned the index 0. While training, a model we mostly train in batches. In a batch, there can be sentences of different length. So, we pad the shorter sentences with `<pad>` token to make length of all sequences in the batch equal.\n",
    "    - `<unk>`: unknown token which is used when a model encounters a word it hasn't seen during training."
   ]
  },
  {
   "cell_type": "markdown",
   "metadata": {},
   "source": [
    "The following code demonstrates how to build a vocabulary from a dataset using tokenization and special tokens, and then transform text into a sequence of integers based on the vocabulary."
   ]
  },
  {
   "cell_type": "code",
   "execution_count": null,
   "metadata": {},
   "outputs": [
    {
     "name": "stdout",
     "output_type": "stream",
     "text": [
      "2.3.0\n",
      "0.18.0+cpu\n"
     ]
    }
   ],
   "source": [
    "import torch\n",
    "import torchtext\n",
    "print(torch.__version__)\n",
    "print(torchtext.__version__)\n"
   ]
  },
  {
   "cell_type": "code",
   "execution_count": null,
   "metadata": {},
   "outputs": [
    {
     "name": "stdout",
     "output_type": "stream",
     "text": [
      "Vocabulary size:  8459\n"
     ]
    }
   ],
   "source": [
    "from torchtext.data.utils import get_tokenizer\n",
    "from torchtext.vocab import build_vocab_from_iterator\n",
    "\n",
    "tokenizer = get_tokenizer(\"basic_english\", language=\"en\")\n",
    "min_word_freq=2 # Words must appear at least twice to be included in the vocabulary\n",
    "PAD_TOKEN = '<pad>' # padding token\n",
    "UNK_TOKEN = '<unk>' # unknown token\n",
    "SPECIALS = [PAD_TOKEN, UNK_TOKEN]\n",
    "\n",
    "def build_vocab(dataset, tokenizer):\n",
    "    texts = [text for text , _ in dataset]\n",
    "    vocab = build_vocab_from_iterator(\n",
    "        map(tokenizer, texts),\n",
    "        specials=SPECIALS,\n",
    "        min_freq=min_word_freq\n",
    "    )\n",
    "    vocab.set_default_index(vocab[\"<unk>\"])\n",
    "    return vocab\n",
    "\n",
    "vocab = build_vocab(train_dataset,tokenizer)\n",
    "vocab_size = vocab.__len__()\n",
    "print(\"Vocabulary size: \", vocab_size)"
   ]
  },
  {
   "cell_type": "code",
   "execution_count": null,
   "metadata": {},
   "outputs": [
    {
     "data": {
      "text/plain": [
       "[1, 167, 204]"
      ]
     },
     "execution_count": 127,
     "metadata": {},
     "output_type": "execute_result"
    }
   ],
   "source": [
    "# The pipeline is a lambda function that takes an string x\n",
    "# and applies two transformations: tokenize the input and then\n",
    "# maps each token to its corresponding index from the vocabulary.\n",
    "# \n",
    "# When the string 'Hello world!' is passed to the pipeline, \n",
    "# it is tokenized into ['hello', 'world', '!'].\n",
    "# \n",
    "# The output [1, 167, 204] indicates that 'Hello' maps to index 1, \n",
    "# 'world' to 167, and '!' is mapped to index 204.\n",
    "#  \n",
    "# Because 1 is unknown token (<unk>), it suggests 'hello' is not in the vocabulary.\n",
    "# In other words, 'hello' is not present in the training data.\n",
    "\n",
    "pipeline = lambda x : vocab(tokenizer(x))\n",
    "pipeline('Hello world!')"
   ]
  },
  {
   "cell_type": "markdown",
   "metadata": {},
   "source": [
    "#### Collation\n",
    "\n",
    "When working with text data, sentences or sequences of text often have variable lengths. Since models expect all inputs in a batch to have the same length, we need to convert these variable-length sequences into batched tensors by padding the shorter sequences.\n",
    "\n",
    "Although RNNs can process sequences of any length (as long as all sequences within a batch share the same length), it's often beneficial to cap the maximum sequence length. This reduces computational complexity and prevent vanishing gradients. Longer sequences can lead to vanishing gradients, making training more difficult.\n",
    "\n",
    "By restricting the sequence to a predefined `MAX_LENGTH`, we assume that the key sentiment or message is captured early in the review.\n",
    "\n",
    "In the code cell below, we set `MAX_LENGTH` to 100, but feel free to play with this value."
   ]
  },
  {
   "cell_type": "code",
   "execution_count": null,
   "metadata": {},
   "outputs": [],
   "source": [
    "MAX_LENGTH = 100\n",
    "def collator(batch):\n",
    "    \"\"\"\n",
    "    Process a batch of text-label pairs, transform the text into a tensor, \n",
    "    and pad the sequences to have the same length capped by MAX_LENGTH.\n",
    "\n",
    "    Args: \n",
    "        list of (text, label) pair \n",
    "    \n",
    "    Returns: \n",
    "        A pair of tensors:\n",
    "        - texts: a tensor of tokenized texts.\n",
    "        - labels: a tensor of labels.\n",
    "    \"\"\"\n",
    "    # Unzip the batch into sequences and labels\n",
    "    sequences, labels = zip(*batch)\n",
    "    # Apply a pipeline to each sequence and truncate to MAX_LENGTH\n",
    "    truncated_seqs = [pipeline(seq)[:MAX_LENGTH] for seq in sequences]\n",
    "    # Convert to tensor type int64 (needed as nn.Embedding takes input of IntTensor or LongTensor)\n",
    "    truncated_seqs = [torch.tensor(seq, dtype=torch.int64) for seq in truncated_seqs]\n",
    "    # Pad the sequences so they all have the same length and stack them into a single tensor\n",
    "    texts = pad_sequence(truncated_seqs, batch_first=True, padding_value=0)\n",
    "    # Convert the labels into a IntTensor (commonly used for classification)\n",
    "    labels = torch.tensor(labels, dtype=torch.int64)\n",
    "    \n",
    "    return texts , labels"
   ]
  },
  {
   "cell_type": "markdown",
   "metadata": {},
   "source": [
    "The `collate_fn` in DataLoader is used to customize how individual samples from the dataset are combined into batches. By using a `collator` function implemented above, it ensures that each batch is processed consistently, handling necessary transformations and padding as required for our task."
   ]
  },
  {
   "cell_type": "code",
   "execution_count": null,
   "metadata": {},
   "outputs": [],
   "source": [
    "batch_size = 32\n",
    "train_dataloader = DataLoader(train_dataset, batch_size=batch_size,shuffle=True, collate_fn=collator)\n",
    "test_dataloader = DataLoader(test_dataset, batch_size=batch_size, shuffle=True, collate_fn=collator)"
   ]
  },
  {
   "cell_type": "markdown",
   "metadata": {},
   "source": [
    "### Task 2.2: Building the Text Classification Model"
   ]
  },
  {
   "cell_type": "markdown",
   "metadata": {},
   "source": [
    "<center><img src=\"images/text_classification_model.png\" style=\"width:400;height:300px\"></center>\n",
    "\n",
    "Architecture of our model:\n",
    "$$x \\rightarrow \\text{Embedding} \\rightarrow \\text{LSTM} \\rightarrow \\text{Linear}(2) \\rightarrow \\text{output}$$\n",
    "\n",
    "- `nn.Embedding`: The embedding layer converts each word (represented by an index) into dense vectors of `embed_size`. It learns word representations during training. To define an embedding layer, you need to specify the size of the vocabulary and the dimension of the embedding vectors.\n",
    "- `nn.LSTM`: To define an LSTM layer, you need to specify the input size (the number of features in the input), the hidden size (the dimension of the hidden state). This layer return hidden states for all time steps and a tuple consisting of the last hidden and cell states.\n",
    "- `nn.Linear`: a fully-connected layer with the specified input and output features. In this case the output size is `num_class` = 2.\n",
    "\n",
    "__Note:__ For all your networks hereon, the only constructor argument is `classes`. Do not add any other parameters to the `__init__` method. Remember not to hardcode for the number of classes and use the `classes` argument instead. For LSTM layer, use `batch_first=True` to ensure that the batch dimension is handled as the first input dimension."
   ]
  },
  {
   "cell_type": "code",
   "execution_count": null,
   "metadata": {},
   "outputs": [],
   "source": [
    "class TextClassificationModel(nn.Module):\n",
    "    def __init__(self, vocab_size, embed_dim, hidden_size, num_class):\n",
    "        super().__init__()\n",
    "        \"\"\" YOUR CODE HERE \"\"\"\n",
    "        self.embed = nn.Embedding(vocab_size, embed_dim)\n",
    "        self.lstm = nn.LSTM(embed_dim, hidden_size, batch_first=True)\n",
    "        self.l1 = nn.Linear(hidden_size, num_class)\n",
    "        self.softmax = nn.Sigmoid()\n",
    "        \"\"\" YOUR CODE END HERE \"\"\"\n",
    "        \n",
    "    def forward(self, x):\n",
    "        \"\"\" YOUR CODE HERE \"\"\"\n",
    "        x = self.embed(x)\n",
    "        #take output of hidden state\n",
    "        x, _ = self.lstm(x)\n",
    "        x = self.l1(x)[:,-1,:]\n",
    "        return x\n",
    "        \"\"\" YOUR CODE END HERE \"\"\""
   ]
  },
  {
   "cell_type": "code",
   "execution_count": null,
   "metadata": {},
   "outputs": [],
   "source": [
    "# Test cases\n",
    "model = TextClassificationModel(10, 5, 6, 2)\n",
    "assert [layer.detach().numpy().shape for _, layer in model.named_parameters()] \\\n",
    "        == [(10, 5), (24, 5), (24, 6), (24,), (24,), (2, 6), (2,)]"
   ]
  },
  {
   "cell_type": "markdown",
   "metadata": {},
   "source": [
    "### Training"
   ]
  },
  {
   "cell_type": "code",
   "execution_count": null,
   "metadata": {},
   "outputs": [
    {
     "ename": "RuntimeError",
     "evalue": "CUDA error: device-side assert triggered\nCUDA kernel errors might be asynchronously reported at some other API call, so the stacktrace below might be incorrect.\nFor debugging consider passing CUDA_LAUNCH_BLOCKING=1.\nCompile with `TORCH_USE_CUDA_DSA` to enable device-side assertions.\n",
     "output_type": "error",
     "traceback": [
      "\u001b[1;31m---------------------------------------------------------------------------\u001b[0m",
      "\u001b[1;31mRuntimeError\u001b[0m                              Traceback (most recent call last)",
      "Cell \u001b[1;32mIn[132], line 5\u001b[0m\n\u001b[0;32m      3\u001b[0m num_class \u001b[38;5;241m=\u001b[39m \u001b[38;5;241m2\u001b[39m\n\u001b[0;32m      4\u001b[0m lr \u001b[38;5;241m=\u001b[39m \u001b[38;5;241m0.001\u001b[39m\n\u001b[1;32m----> 5\u001b[0m model \u001b[38;5;241m=\u001b[39m TextClassificationModel(vocab_size , embed_dim, hidden_size, num_class)\u001b[38;5;241m.\u001b[39mto(device)\n\u001b[0;32m      6\u001b[0m criterion \u001b[38;5;241m=\u001b[39m nn\u001b[38;5;241m.\u001b[39mCrossEntropyLoss()\n\u001b[0;32m      7\u001b[0m optimizer \u001b[38;5;241m=\u001b[39m torch\u001b[38;5;241m.\u001b[39moptim\u001b[38;5;241m.\u001b[39mAdam(params \u001b[38;5;241m=\u001b[39m model\u001b[38;5;241m.\u001b[39mparameters() , lr\u001b[38;5;241m=\u001b[39mlr)\n",
      "File \u001b[1;32mc:\\ProgramData\\anaconda3\\Lib\\site-packages\\torch\\nn\\modules\\module.py:1173\u001b[0m, in \u001b[0;36mModule.to\u001b[1;34m(self, *args, **kwargs)\u001b[0m\n\u001b[0;32m   1170\u001b[0m         \u001b[38;5;28;01melse\u001b[39;00m:\n\u001b[0;32m   1171\u001b[0m             \u001b[38;5;28;01mraise\u001b[39;00m\n\u001b[1;32m-> 1173\u001b[0m \u001b[38;5;28;01mreturn\u001b[39;00m \u001b[38;5;28mself\u001b[39m\u001b[38;5;241m.\u001b[39m_apply(convert)\n",
      "File \u001b[1;32mc:\\ProgramData\\anaconda3\\Lib\\site-packages\\torch\\nn\\modules\\module.py:779\u001b[0m, in \u001b[0;36mModule._apply\u001b[1;34m(self, fn, recurse)\u001b[0m\n\u001b[0;32m    777\u001b[0m \u001b[38;5;28;01mif\u001b[39;00m recurse:\n\u001b[0;32m    778\u001b[0m     \u001b[38;5;28;01mfor\u001b[39;00m module \u001b[38;5;129;01min\u001b[39;00m \u001b[38;5;28mself\u001b[39m\u001b[38;5;241m.\u001b[39mchildren():\n\u001b[1;32m--> 779\u001b[0m         module\u001b[38;5;241m.\u001b[39m_apply(fn)\n\u001b[0;32m    781\u001b[0m \u001b[38;5;28;01mdef\u001b[39;00m \u001b[38;5;21mcompute_should_use_set_data\u001b[39m(tensor, tensor_applied):\n\u001b[0;32m    782\u001b[0m     \u001b[38;5;28;01mif\u001b[39;00m torch\u001b[38;5;241m.\u001b[39m_has_compatible_shallow_copy_type(tensor, tensor_applied):\n\u001b[0;32m    783\u001b[0m         \u001b[38;5;66;03m# If the new tensor has compatible tensor type as the existing tensor,\u001b[39;00m\n\u001b[0;32m    784\u001b[0m         \u001b[38;5;66;03m# the current behavior is to change the tensor in-place using `.data =`,\u001b[39;00m\n\u001b[1;32m   (...)\u001b[0m\n\u001b[0;32m    789\u001b[0m         \u001b[38;5;66;03m# global flag to let the user control whether they want the future\u001b[39;00m\n\u001b[0;32m    790\u001b[0m         \u001b[38;5;66;03m# behavior of overwriting the existing tensor or not.\u001b[39;00m\n",
      "File \u001b[1;32mc:\\ProgramData\\anaconda3\\Lib\\site-packages\\torch\\nn\\modules\\module.py:804\u001b[0m, in \u001b[0;36mModule._apply\u001b[1;34m(self, fn, recurse)\u001b[0m\n\u001b[0;32m    800\u001b[0m \u001b[38;5;66;03m# Tensors stored in modules are graph leaves, and we don't want to\u001b[39;00m\n\u001b[0;32m    801\u001b[0m \u001b[38;5;66;03m# track autograd history of `param_applied`, so we have to use\u001b[39;00m\n\u001b[0;32m    802\u001b[0m \u001b[38;5;66;03m# `with torch.no_grad():`\u001b[39;00m\n\u001b[0;32m    803\u001b[0m \u001b[38;5;28;01mwith\u001b[39;00m torch\u001b[38;5;241m.\u001b[39mno_grad():\n\u001b[1;32m--> 804\u001b[0m     param_applied \u001b[38;5;241m=\u001b[39m fn(param)\n\u001b[0;32m    805\u001b[0m p_should_use_set_data \u001b[38;5;241m=\u001b[39m compute_should_use_set_data(param, param_applied)\n\u001b[0;32m    807\u001b[0m \u001b[38;5;66;03m# subclasses may have multiple child tensors so we need to use swap_tensors\u001b[39;00m\n",
      "File \u001b[1;32mc:\\ProgramData\\anaconda3\\Lib\\site-packages\\torch\\nn\\modules\\module.py:1159\u001b[0m, in \u001b[0;36mModule.to.<locals>.convert\u001b[1;34m(t)\u001b[0m\n\u001b[0;32m   1152\u001b[0m     \u001b[38;5;28;01mif\u001b[39;00m convert_to_format \u001b[38;5;129;01mis\u001b[39;00m \u001b[38;5;129;01mnot\u001b[39;00m \u001b[38;5;28;01mNone\u001b[39;00m \u001b[38;5;129;01mand\u001b[39;00m t\u001b[38;5;241m.\u001b[39mdim() \u001b[38;5;129;01min\u001b[39;00m (\u001b[38;5;241m4\u001b[39m, \u001b[38;5;241m5\u001b[39m):\n\u001b[0;32m   1153\u001b[0m         \u001b[38;5;28;01mreturn\u001b[39;00m t\u001b[38;5;241m.\u001b[39mto(\n\u001b[0;32m   1154\u001b[0m             device,\n\u001b[0;32m   1155\u001b[0m             dtype \u001b[38;5;28;01mif\u001b[39;00m t\u001b[38;5;241m.\u001b[39mis_floating_point() \u001b[38;5;129;01mor\u001b[39;00m t\u001b[38;5;241m.\u001b[39mis_complex() \u001b[38;5;28;01melse\u001b[39;00m \u001b[38;5;28;01mNone\u001b[39;00m,\n\u001b[0;32m   1156\u001b[0m             non_blocking,\n\u001b[0;32m   1157\u001b[0m             memory_format\u001b[38;5;241m=\u001b[39mconvert_to_format,\n\u001b[0;32m   1158\u001b[0m         )\n\u001b[1;32m-> 1159\u001b[0m     \u001b[38;5;28;01mreturn\u001b[39;00m t\u001b[38;5;241m.\u001b[39mto(\n\u001b[0;32m   1160\u001b[0m         device,\n\u001b[0;32m   1161\u001b[0m         dtype \u001b[38;5;28;01mif\u001b[39;00m t\u001b[38;5;241m.\u001b[39mis_floating_point() \u001b[38;5;129;01mor\u001b[39;00m t\u001b[38;5;241m.\u001b[39mis_complex() \u001b[38;5;28;01melse\u001b[39;00m \u001b[38;5;28;01mNone\u001b[39;00m,\n\u001b[0;32m   1162\u001b[0m         non_blocking,\n\u001b[0;32m   1163\u001b[0m     )\n\u001b[0;32m   1164\u001b[0m \u001b[38;5;28;01mexcept\u001b[39;00m \u001b[38;5;167;01mNotImplementedError\u001b[39;00m \u001b[38;5;28;01mas\u001b[39;00m e:\n\u001b[0;32m   1165\u001b[0m     \u001b[38;5;28;01mif\u001b[39;00m \u001b[38;5;28mstr\u001b[39m(e) \u001b[38;5;241m==\u001b[39m \u001b[38;5;124m\"\u001b[39m\u001b[38;5;124mCannot copy out of meta tensor; no data!\u001b[39m\u001b[38;5;124m\"\u001b[39m:\n",
      "\u001b[1;31mRuntimeError\u001b[0m: CUDA error: device-side assert triggered\nCUDA kernel errors might be asynchronously reported at some other API call, so the stacktrace below might be incorrect.\nFor debugging consider passing CUDA_LAUNCH_BLOCKING=1.\nCompile with `TORCH_USE_CUDA_DSA` to enable device-side assertions.\n"
     ]
    }
   ],
   "source": [
    "embed_dim = 300\n",
    "hidden_size = 128\n",
    "num_class = 2\n",
    "lr = 0.001\n",
    "model = TextClassificationModel(vocab_size , embed_dim, hidden_size, num_class).to(device)\n",
    "criterion = nn.CrossEntropyLoss()\n",
    "optimizer = torch.optim.Adam(params = model.parameters() , lr=lr)"
   ]
  },
  {
   "cell_type": "code",
   "execution_count": null,
   "metadata": {},
   "outputs": [
    {
     "ename": "RuntimeError",
     "evalue": "CUDA error: device-side assert triggered\nCUDA kernel errors might be asynchronously reported at some other API call, so the stacktrace below might be incorrect.\nFor debugging consider passing CUDA_LAUNCH_BLOCKING=1.\nCompile with `TORCH_USE_CUDA_DSA` to enable device-side assertions.\n",
     "output_type": "error",
     "traceback": [
      "\u001b[1;31m---------------------------------------------------------------------------\u001b[0m",
      "\u001b[1;31mRuntimeError\u001b[0m                              Traceback (most recent call last)",
      "Cell \u001b[1;32mIn[133], line 8\u001b[0m\n\u001b[0;32m      5\u001b[0m num_correct \u001b[38;5;241m=\u001b[39m \u001b[38;5;241m0\u001b[39m\n\u001b[0;32m      7\u001b[0m \u001b[38;5;28;01mfor\u001b[39;00m texts, labels \u001b[38;5;129;01min\u001b[39;00m train_dataloader:\n\u001b[1;32m----> 8\u001b[0m     texts, labels \u001b[38;5;241m=\u001b[39m texts\u001b[38;5;241m.\u001b[39mto(device), labels\u001b[38;5;241m.\u001b[39mto(device)  \n\u001b[0;32m      9\u001b[0m     output \u001b[38;5;241m=\u001b[39m model(texts)\n\u001b[0;32m     11\u001b[0m     loss \u001b[38;5;241m=\u001b[39m criterion(output, labels)\n",
      "\u001b[1;31mRuntimeError\u001b[0m: CUDA error: device-side assert triggered\nCUDA kernel errors might be asynchronously reported at some other API call, so the stacktrace below might be incorrect.\nFor debugging consider passing CUDA_LAUNCH_BLOCKING=1.\nCompile with `TORCH_USE_CUDA_DSA` to enable device-side assertions.\n"
     ]
    }
   ],
   "source": [
    "num_epochs = 5\n",
    "model.train()\n",
    "for epoch in range(num_epochs):  \n",
    "    epoch_loss = 0.0  \n",
    "    num_correct = 0\n",
    "\n",
    "    for texts, labels in train_dataloader:\n",
    "        texts, labels = texts.to(device), labels.to(device)  \n",
    "        output = model(texts)\n",
    "\n",
    "        loss = criterion(output, labels)\n",
    "        epoch_loss += loss.item() \n",
    "        num_correct += (output.argmax(1) == labels).sum().item()\n",
    "\n",
    "        optimizer.zero_grad()\n",
    "        loss.backward()\n",
    "        optimizer.step()\n",
    "\n",
    "    epoch_loss /= len(train_dataloader)  \n",
    "    epoch_acc = (num_correct / len(train_dataloader.dataset)) * 100  \n",
    "    print(f\"Epoch {epoch + 1}, Train Loss: {epoch_loss:.4f}, Train Accuracy: {epoch_acc:.2f}%\")"
   ]
  },
  {
   "cell_type": "markdown",
   "metadata": {},
   "source": [
    "### Evaluating"
   ]
  },
  {
   "cell_type": "code",
   "execution_count": null,
   "metadata": {},
   "outputs": [
    {
     "ename": "RuntimeError",
     "evalue": "CUDA error: device-side assert triggered\nCUDA kernel errors might be asynchronously reported at some other API call, so the stacktrace below might be incorrect.\nFor debugging consider passing CUDA_LAUNCH_BLOCKING=1.\nCompile with `TORCH_USE_CUDA_DSA` to enable device-side assertions.\n",
     "output_type": "error",
     "traceback": [
      "\u001b[1;31m---------------------------------------------------------------------------\u001b[0m",
      "\u001b[1;31mRuntimeError\u001b[0m                              Traceback (most recent call last)",
      "Cell \u001b[1;32mIn[134], line 6\u001b[0m\n\u001b[0;32m      4\u001b[0m \u001b[38;5;28;01mwith\u001b[39;00m torch\u001b[38;5;241m.\u001b[39mno_grad():\n\u001b[0;32m      5\u001b[0m     \u001b[38;5;28;01mfor\u001b[39;00m texts, labels \u001b[38;5;129;01min\u001b[39;00m test_dataloader:\n\u001b[1;32m----> 6\u001b[0m         texts, labels \u001b[38;5;241m=\u001b[39m texts\u001b[38;5;241m.\u001b[39mto(device), labels\u001b[38;5;241m.\u001b[39mto(device)\n\u001b[0;32m      7\u001b[0m         output \u001b[38;5;241m=\u001b[39m model(texts) \n\u001b[0;32m      8\u001b[0m         predictions \u001b[38;5;241m=\u001b[39m output\u001b[38;5;241m.\u001b[39margmax(\u001b[38;5;241m1\u001b[39m)\n",
      "\u001b[1;31mRuntimeError\u001b[0m: CUDA error: device-side assert triggered\nCUDA kernel errors might be asynchronously reported at some other API call, so the stacktrace below might be incorrect.\nFor debugging consider passing CUDA_LAUNCH_BLOCKING=1.\nCompile with `TORCH_USE_CUDA_DSA` to enable device-side assertions.\n"
     ]
    }
   ],
   "source": [
    "model.eval()  \n",
    "num_correct = 0\n",
    "\n",
    "with torch.no_grad():\n",
    "    for texts, labels in test_dataloader:\n",
    "        texts, labels = texts.to(device), labels.to(device)\n",
    "        output = model(texts) \n",
    "        predictions = output.argmax(1)\n",
    "        num_correct += (predictions == labels).sum().item()  \n",
    "\n",
    "eval_acc = (num_correct / len(test_dataloader.dataset)) * 100\n",
    "print(f\"Validation Accuracy: {eval_acc:.2f}%\")"
   ]
  },
  {
   "cell_type": "code",
   "execution_count": null,
   "metadata": {},
   "outputs": [],
   "source": [
    "def predict(input_text):\n",
    "    model.eval()\n",
    "    with torch.no_grad():\n",
    "        tokens = torch.tensor(pipeline(input_text)).to(device)\n",
    "        output = model(tokens)\n",
    "        prediction = output.argmax()\n",
    "        return \"positive\" if prediction== 1 else \"negative\"\n",
    "\n",
    "my_review = \"Write your review here\"\n",
    "predict(my_review)"
   ]
  },
  {
   "cell_type": "markdown",
   "metadata": {},
   "source": []
  },
  {
   "cell_type": "markdown",
   "metadata": {},
   "source": [
    "## Submission\n",
    "\n",
    "Once you are done, please submit your work to Coursemology, by copying the right snippets of code into the corresponding box that says \"Your answer,\"and click \"Save.\" After you save, you can still make changes to your submission.\n",
    "\n",
    "Once you are satisfied with what you have uploaded, click \"Finalize submission.\" Note that once your submission is finalized, it is considered to be submitted for grading and cannot be changed. If you need to undo this action, you will have to email your assigned tutor for help. Please do not finalize your submission until you are sure that you want to submit your solutions for grading.\n",
    "\n",
    "*Have fun and enjoy coding.*"
   ]
  }
 ],
 "metadata": {
  "kernelspec": {
   "display_name": "Python 3",
   "language": "python",
   "name": "python3"
  },
  "language_info": {
   "codemirror_mode": {
    "name": "ipython",
    "version": 3
   },
   "file_extension": ".py",
   "mimetype": "text/x-python",
   "name": "python",
   "nbconvert_exporter": "python",
   "pygments_lexer": "ipython3",
   "version": "undefined.undefined.undefined"
  }
 },
 "nbformat": 4,
 "nbformat_minor": 2
}
